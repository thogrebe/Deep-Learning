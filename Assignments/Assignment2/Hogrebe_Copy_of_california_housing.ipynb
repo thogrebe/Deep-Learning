{
  "cells": [
    {
      "cell_type": "markdown",
      "source": [
        "#### Block 1:  Import general purpose packages for ease of use and improved performance."
      ],
      "metadata": {
        "id": "SxMReo5oq986"
      }
    },
    {
      "cell_type": "code",
      "source": [
        "import matplotlib.pyplot as plt\n",
        "import numpy as np\n",
        "import pprint"
      ],
      "metadata": {
        "id": "HcrDIqY4q3J7"
      },
      "execution_count": 1,
      "outputs": []
    },
    {
      "cell_type": "markdown",
      "source": [
        "#### Block 2:  Import packages for a typical deep learning workflow using TensorFlow and Keras.  Import the California housing market dataset from Keras."
      ],
      "metadata": {
        "id": "VVU9OI61NZkk"
      }
    },
    {
      "cell_type": "code",
      "execution_count": 2,
      "metadata": {
        "id": "YHxwv0dzNLVD"
      },
      "outputs": [],
      "source": [
        "import tensorflow as tf\n",
        "from tensorflow import keras\n",
        "from tensorflow.keras import layers\n",
        "from tensorflow.keras.datasets import california_housing"
      ]
    },
    {
      "cell_type": "markdown",
      "source": [
        "####  Block 3:  Define functions called in subsequent blocks."
      ],
      "metadata": {
        "id": "--4gk9mBgvUn"
      }
    },
    {
      "cell_type": "code",
      "source": [
        "def build_model():\n",
        "    # Create a sequential model: this type of model is a linear stack of layers.\n",
        "    # Define the structure of the model.\n",
        "    model = keras.Sequential([\n",
        "        # Add a densely-connected layer with 64 neurons and ReLU activation function.\n",
        "        # ReLU (rectified linear unit) is used to introduce non-linearity to the model\n",
        "        layers.Dense(64, activation='relu'),\n",
        "        # Add another dense layer with 64 neurons, also with ReLU activation.\n",
        "        layers.Dense(64, activation='relu'),\n",
        "        # Add an output layer with a single neuron and no activation.\n",
        "        # This is typical for regression problems where we predict a continuous value.\n",
        "        layers.Dense(1)\n",
        "    ])\n",
        "    # Compile the model: set up the model for training.\n",
        "    # 'adam' is an optimizer that adjusts weights to minimize the loss.\n",
        "    # 'mean_squared_error' is used as a loss function for regression (predicting a value).\n",
        "    # 'mean_absolute_error' is a metric to judge the model performance during training and testing.\n",
        "    model.compile(\n",
        "        optimizer='adam',\n",
        "        loss='mean_squared_error',\n",
        "        metrics=['mean_absolute_error'],\n",
        "    ),\n",
        "    return model"
      ],
      "metadata": {
        "id": "8J7TSQl0gyND"
      },
      "execution_count": 12,
      "outputs": []
    },
    {
      "cell_type": "markdown",
      "source": [
        "#### Block 4:  Load the small version of the California housing dataset."
      ],
      "metadata": {
        "id": "4y7qqzA2Wb60"
      }
    },
    {
      "cell_type": "code",
      "execution_count": 14,
      "metadata": {
        "id": "DfjxlYqcRdEt"
      },
      "outputs": [],
      "source": [
        "# Load the California housing dataset. This dataset includes data on houses from the 1990 census.\n",
        "# We are using a 'small' version of this dataset for quicker processing and demonstration purposes\n",
        "(train_data, train_targets), (test_data, test_targets) = california_housing.load_data(version='small')"
      ]
    },
    {
      "cell_type": "markdown",
      "metadata": {
        "id": "OnYDChAlRdEu"
      },
      "source": [
        "#### Block 5:  Prepare (normalize) the data and the targets."
      ]
    },
    {
      "cell_type": "code",
      "execution_count": 16,
      "metadata": {
        "id": "l8k9bVTyRdEu"
      },
      "outputs": [],
      "source": [
        "# Normalize the training and testing data to have a mean of 0 and a standard deviation of 1.\n",
        "# This standardization helps to improve model performance and stability during training.\n",
        "mean = train_data.mean(axis=0) # Calculate the mean of each feature in the training data.\n",
        "std = train_data.std(axis=0) # Calculate the standard deviation of each feature in the training data.\n",
        "x_train = (train_data - mean)/std # Subtract the mean and divide by the standard deviation.\n",
        "x_test = (test_data - mean)/std # Apply the same transformation to the test data.\n",
        "\n",
        "# Normalize the training and testing targets by scaling down the values.\n",
        "# This helps the model to manage larger values effectively during computations.\n",
        "model_sf = 100000 # Scale factor to normalize targets.\n",
        "y_train = train_targets/model_sf # Scale down the training targets.\n",
        "y_test = test_targets/model_sf # Scale down the testing targets."
      ]
    },
    {
      "cell_type": "markdown",
      "metadata": {
        "id": "rE4ffSWORdEv"
      },
      "source": [
        "#### Block 6A:  Build and train the model.  Assess the model using K-fold validation."
      ]
    },
    {
      "cell_type": "code",
      "execution_count": 17,
      "metadata": {
        "id": "sbnkWTJ5RdEw",
        "colab": {
          "base_uri": "https://localhost:8080/"
        },
        "outputId": "a4dabfe6-e070-46e3-e42e-8f3201bc584b"
      },
      "outputs": [
        {
          "output_type": "stream",
          "name": "stdout",
          "text": [
            "Processing fold #1\n",
            "Processing fold #2\n",
            "Processing fold #3\n",
            "Processing fold #4\n",
            "Average MAE across all folds: 0.2922697737812996\n"
          ]
        }
      ],
      "source": [
        "K = 4 # Number of folds for K-fold validation\n",
        "n_partitions = len(x_train)//K # Determine size of each fold\n",
        "n_epochs = 50 # Number of epochs for training each fold\n",
        "all_MAE = [] # List to store the MAE for each fold\n",
        "for i in range(K):\n",
        "    print(f'Processing fold #{i+1}')\n",
        "    # Define the validation data for the current fold\n",
        "    fold_x_val = x_train[i*n_partitions:(i + 1)*n_partitions]\n",
        "    fold_y_val = y_train[i*n_partitions:(i + 1)*n_partitions]\n",
        "    # Define the training data, which includes all data except the current validation fold\n",
        "    fold_x_train = np.concatenate([x_train[:i*n_partitions],\n",
        "                                   x_train[(i + 1)*n_partitions:]],\n",
        "                                   axis=0)\n",
        "    fold_y_train = np.concatenate([y_train[:i*n_partitions],\n",
        "                                   y_train[(i + 1)*n_partitions:]],\n",
        "                                   axis=0)\n",
        "    # Build and compile the model (defined in previous blocks)\n",
        "    model = build_model()\n",
        "    # Fit the model on training data\n",
        "    model.fit(fold_x_train, fold_y_train,\n",
        "              epochs=n_epochs, batch_size=16, verbose=0)\n",
        "    # Evaluate the model on the validation data\n",
        "    scores = model.evaluate(fold_x_val, fold_y_val, verbose=0)\n",
        "    # Append the mean absolute error of the current fold to the list\n",
        "    all_MAE.append(scores[1])\n",
        "\n",
        "print(\"Average MAE across all folds:\", np.mean(all_MAE))"
      ]
    },
    {
      "cell_type": "markdown",
      "source": [
        "#### Block 6B:  Assess the output of the K-fold validation."
      ],
      "metadata": {
        "id": "2PWzaNjh2VHY"
      }
    },
    {
      "cell_type": "code",
      "source": [
        "print(\"All MAE values from each fold:\", all_MAE)\n",
        "mean_MAE = np.mean(all_MAE)  # Calculate the average MAE across all folds.\n",
        "stdev_MAE = np.std(all_MAE, ddof=1)  # Calculate the unbiased standard deviation of the MAE.\n",
        "RSD_MAE = 100 * stdev_MAE / mean_MAE  # Calculate the relative standard deviation as a percentage.\n",
        "print(\"Mean MAE:\", mean_MAE)\n",
        "print(\"Standard Deviation of MAE:\", stdev_MAE)\n",
        "print(\"Relative Standard Deviation of MAE (%):\", RSD_MAE)\n",
        "## The Relative Standard Deviation (RSD) of the MAE is approximately 10.98%, which suggests moderate consistency in the model's performance\n",
        "## across the folds. An RSD below 15% typically indicates that the model has stable predictive accuracy across different subsets of data,\n",
        "## reducing concerns about overfitting to particular partitions of the dataset. This level of variability in MAE suggests that the model\n",
        "## should generalize reasonably well on new, unseen data, assuming similar data distribution."
      ],
      "metadata": {
        "id": "0PgSWW2N1iLz",
        "colab": {
          "base_uri": "https://localhost:8080/"
        },
        "outputId": "3b1f06b5-607b-4f9a-e4df-1105528db726"
      },
      "execution_count": 18,
      "outputs": [
        {
          "output_type": "stream",
          "name": "stdout",
          "text": [
            "All MAE values from each fold: [0.3148433566093445, 0.28608614206314087, 0.24936410784721375, 0.31878548860549927]\n",
            "Mean MAE: 0.2922697737812996\n",
            "Standard Deviation of MAE: 0.032102872378267956\n",
            "Relative Standard Deviation of MAE (%): 10.983986459814343\n"
          ]
        }
      ]
    },
    {
      "cell_type": "markdown",
      "source": [
        "#### Block 7:  Build and the model and assess it using K-fold validation, slight return."
      ],
      "metadata": {
        "id": "LEy4AZ6u19To"
      }
    },
    {
      "cell_type": "code",
      "execution_count": 19,
      "metadata": {
        "id": "xhWVezBe1oMK",
        "colab": {
          "base_uri": "https://localhost:8080/"
        },
        "outputId": "23b7d1ea-a66d-47ce-de46-b3e740eef9c8"
      },
      "outputs": [
        {
          "output_type": "stream",
          "name": "stdout",
          "text": [
            "Processing fold #1\n",
            "Processing fold #2\n",
            "Processing fold #3\n",
            "Processing fold #4\n"
          ]
        }
      ],
      "source": [
        "K = 4  # Number of folds for K-fold validation\n",
        "n_partitions = len(x_train) // K  # Compute the number of samples per fold\n",
        "n_epochs = 200  # Set the number of epochs for training\n",
        "all_MAE_histories = []  # This list will store the MAE history for each fold\n",
        "\n",
        "for i in range(K):  # Loop over each fold\n",
        "    print(f'Processing fold #{i+1}')\n",
        "\n",
        "    # Define validation data for this fold\n",
        "    fold_x_val = x_train[i*n_partitions:(i + 1)*n_partitions]\n",
        "    fold_y_val = y_train[i*n_partitions:(i + 1)*n_partitions]\n",
        "\n",
        "    # Combine the remaining data to form a training set\n",
        "    fold_x_train = np.concatenate([x_train[:i*n_partitions], x_train[(i + 1)*n_partitions:]], axis=0)\n",
        "    fold_y_train = np.concatenate([y_train[:i*n_partitions], y_train[(i + 1)*n_partitions:]], axis=0)\n",
        "\n",
        "    # Build a fresh model (from a function defined earlier)\n",
        "    model = build_model()\n",
        "\n",
        "    # Train the model on the training data and validate on the validation data\n",
        "    history = model.fit(fold_x_train, fold_y_train, validation_data=(fold_x_val, fold_y_val),\n",
        "                        epochs=n_epochs, batch_size=16, verbose=0)\n",
        "\n",
        "    # Extract the history of mean absolute error for the validation dataset\n",
        "    MAE_history = history.history['val_mean_absolute_error']\n",
        "\n",
        "    # Append the MAE history of this fold to the list\n",
        "    all_MAE_histories.append(MAE_history)\n",
        "\n"
      ]
    },
    {
      "cell_type": "markdown",
      "source": [
        "#### Block 8:  Summarize the training history."
      ],
      "metadata": {
        "id": "UmzgF5Jn9VA4"
      }
    },
    {
      "cell_type": "code",
      "source": [
        "# Initialize dictionary to store the mean MAE history calculated by different methods\n",
        "mean_MAE_history = {}\n",
        "\n",
        "# Calculate mean MAE using a nested for-loop, useful for understanding basic Python loops\n",
        "mean_MAE_history['nested_for'] = []\n",
        "for i in range(n_epochs):\n",
        "    MAE_total = [MAE_history[i] for MAE_history in all_MAE_histories]\n",
        "    mean_MAE_history['nested_for'].append(sum(MAE_total) / K)  # Average over number of folds\n",
        "\n",
        "# Calculate mean MAE using list comprehension, a more Pythonic and concise approach\n",
        "mean_MAE_history['nested_comprehension'] = [\n",
        "    np.mean([x[i] for x in all_MAE_histories]) for i in range(n_epochs)\n",
        "]\n",
        "\n",
        "# Calculate mean MAE using NumPy, the most efficient and concise method\n",
        "mean_MAE_history['NumPy'] = np.mean(np.array(all_MAE_histories), axis=0)"
      ],
      "metadata": {
        "id": "kE0uaOWTHiJr"
      },
      "execution_count": 20,
      "outputs": []
    },
    {
      "cell_type": "markdown",
      "source": [
        "#### Block 9:  Visualize the training history."
      ],
      "metadata": {
        "id": "ct-pPemZFvfN"
      }
    },
    {
      "cell_type": "code",
      "execution_count": 21,
      "metadata": {
        "id": "X1aqA6j0RdEw",
        "colab": {
          "base_uri": "https://localhost:8080/",
          "height": 451
        },
        "outputId": "3c7747d8-abb0-4b86-9fc3-66b45217b80c"
      },
      "outputs": [
        {
          "output_type": "display_data",
          "data": {
            "text/plain": [
              "<Figure size 640x480 with 1 Axes>"
            ],
            "image/png": "[encoded data removed]"
          },
          "metadata": {}
        }
      ],
      "source": [
        "# Set the index of the first epoch from which MAE will be plotted.\n",
        "ifirst = 0\n",
        "\n",
        "# Plot MAE vs epoch number.\n",
        "fig, ax = plt.subplots()\n",
        "ax.plot(range(ifirst+1, n_epochs+1), mean_MAE_history['NumPy'][ifirst:], label='Validation MAE')\n",
        "ax.set_xlabel('Epochs', labelpad=5)  # Label for the x-axis.\n",
        "ax.set_ylabel('Validation MAE', labelpad=10)  # Label for the y-axis.\n",
        "ax.legend()  # Add a legend to help identify the plot.\n",
        "fig.show()  # Display the plot.\n"
      ]
    },
    {
      "cell_type": "markdown",
      "metadata": {
        "id": "FjgS9dUdRdEx"
      },
      "source": [
        "#### Block 10:  Retrain the model, from the ground up and evaluate it."
      ]
    },
    {
      "cell_type": "code",
      "execution_count": 23,
      "metadata": {
        "id": "yH-fFbMARdEx",
        "colab": {
          "base_uri": "https://localhost:8080/"
        },
        "outputId": "9a3e2713-6fce-46e1-8779-47e87afc79c9"
      },
      "outputs": [
        {
          "output_type": "stream",
          "name": "stdout",
          "text": [
            "\u001b[1m4/4\u001b[0m \u001b[32m━━━━━━━━━━━━━━━━━━━━\u001b[0m\u001b[37m\u001b[0m \u001b[1m0s\u001b[0m 9ms/step - loss: 0.3292 - mean_absolute_error: 0.3644  \n",
            "Test MSE: 0.3247, Test MAE: 0.3495\n"
          ]
        }
      ],
      "source": [
        "# Set the number of epochs for training\n",
        "n_epochs = 130\n",
        "\n",
        "# Rebuild the model from scratch\n",
        "model = build_model()\n",
        "\n",
        "# Train the model using the training dataset with specified batch size and without verbose output\n",
        "model.fit(x_train, y_train, epochs=n_epochs, batch_size=16, verbose=0)\n",
        "\n",
        "# Evaluate the model on the test set to obtain Mean Squared Error (MSE) and Mean Absolute Error (MAE)\n",
        "test_MSE, test_MAE = model.evaluate(x_test, y_test)\n",
        "\n",
        "# Optionally, print the evaluation results for quick analysis\n",
        "print(f\"Test MSE: {test_MSE:.4f}, Test MAE: {test_MAE:.4f}\")\n"
      ]
    },
    {
      "cell_type": "markdown",
      "metadata": {
        "id": "A1ECOQ1pRdEy"
      },
      "source": [
        "#### Block 11:  Make predictions using the retrained model."
      ]
    },
    {
      "cell_type": "code",
      "execution_count": 24,
      "metadata": {
        "id": "hFiUhLMCRdEy",
        "colab": {
          "base_uri": "https://localhost:8080/",
          "height": 503
        },
        "outputId": "b72092cb-b610-48ef-ce2f-5d815802b6ed"
      },
      "outputs": [
        {
          "output_type": "stream",
          "name": "stdout",
          "text": [
            "\u001b[1m4/4\u001b[0m \u001b[32m━━━━━━━━━━━━━━━━━━━━\u001b[0m\u001b[37m\u001b[0m \u001b[1m0s\u001b[0m 24ms/step\n"
          ]
        },
        {
          "output_type": "display_data",
          "data": {
            "text/plain": [
              "<Figure size 640x480 with 1 Axes>"
            ],
            "image/png": "[encoded data removed]"
          },
          "metadata": {}
        }
      ],
      "source": [
        "# Set the scale factor for plotting.\n",
        "plot_sf = model_sf\n",
        "\n",
        "# Predict house values using the features of the testing dataset and adjust by the scale factor.\n",
        "predicted_values = model.predict(x_test) * plot_sf\n",
        "\n",
        "# Adjust the true assessed values by the scale factor for consistent scaling in the plot.\n",
        "assessed_values = y_test * plot_sf\n",
        "\n",
        "# Create a scatter plot of assessed values vs. predicted values to visualize model performance.\n",
        "fig, ax = plt.subplots()\n",
        "ax.scatter(assessed_values, predicted_values, color='black', label='Predicted vs Assessed')\n",
        "# Add a dashed line to indicate perfect prediction alignment.\n",
        "ax.plot(ax.get_xlim(), ax.get_ylim(), 'k--', label='Perfect Fit')\n",
        "ax.set_xlabel('Assessed Value (in $)', labelpad=8)  # Label for the x-axis.\n",
        "ax.set_ylabel('Predicted Value (in $)', labelpad=10)  # Label for the y-axis.\n",
        "ax.legend()  # Add a legend to identify plot elements.\n",
        "fig.tight_layout()  # Adjust the layout to make room for label pads.\n",
        "fig.show()  # Display the plot."
      ]
    }
  ],
  "metadata": {
    "colab": {
      "provenance": []
    },
    "kernelspec": {
      "display_name": "Python 3",
      "language": "python",
      "name": "python3"
    },
    "language_info": {
      "codemirror_mode": {
        "name": "ipython",
        "version": 3
      },
      "file_extension": ".py",
      "mimetype": "text/x-python",
      "name": "python",
      "nbconvert_exporter": "python",
      "pygments_lexer": "ipython3",
      "version": "3.7.0"
    }
  },
  "nbformat": 4,
  "nbformat_minor": 0
}