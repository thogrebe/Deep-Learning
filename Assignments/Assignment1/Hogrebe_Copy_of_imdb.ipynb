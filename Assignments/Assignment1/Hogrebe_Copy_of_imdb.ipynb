{
  "nbformat": 4,
  "nbformat_minor": 0,
  "metadata": {
    "colab": {
      "provenance": []
    },
    "kernelspec": {
      "name": "python3",
      "display_name": "Python 3"
    },
    "language_info": {
      "name": "python"
    }
  },
  "cells": [
    {
      "cell_type": "markdown",
      "source": [
        "#### Block 1:  Import general purpose packages for ease of use and improved performance."
      ],
      "metadata": {
        "id": "SxMReo5oq986"
      }
    },
    {
      "cell_type": "code",
      "source": [
        "import matplotlib.pyplot as plt\n",
        "import numpy as np\n",
        "import pprint\n",
        "from tensorflow.keras import layers\n"
      ],
      "metadata": {
        "id": "HcrDIqY4q3J7"
      },
      "execution_count": 15,
      "outputs": []
    },
    {
      "cell_type": "markdown",
      "source": [
        "#### Block 2:  Import packages for a typical deep learning workflow using TensorFlow and Keras.  Import the IMDB dataset from Keras."
      ],
      "metadata": {
        "id": "VVU9OI61NZkk"
      }
    },
    {
      "cell_type": "code",
      "execution_count": 2,
      "metadata": {
        "id": "YHxwv0dzNLVD"
      },
      "outputs": [],
      "source": [
        "import tensorflow as tf\n",
        "from tensorflow import keras\n",
        "from tensorflow.keras import layers\n",
        "from tensorflow.keras.datasets import imdb"
      ]
    },
    {
      "cell_type": "markdown",
      "source": [
        "####  Block 3:  Define functions called in subsequent blocks."
      ],
      "metadata": {
        "id": "--4gk9mBgvUn"
      }
    },
    {
      "cell_type": "code",
      "source": [
        "import tensorflow.keras.datasets.imdb as imdb\n",
        "\n",
        "# Explore the IMDB module\n",
        "dir(imdb)\n",
        "help(imdb.load_data)\n",
        "\n",
        "# This function decodes an encoded review back into words.\n",
        "# It converts each integer back to the corresponding word using the reverse word index.\n",
        "def decode_review(encoded_review, indices_to_words):\n",
        "    return ' '.join(indices_to_words.get(i, '?') for i in encoded_review)\n",
        "\n",
        "# One-hot encode a set of reviews based on word index.\n",
        "# Each review becomes a 10,000-length vector with 1s at indices where words appear.\n",
        "def reviews_as_one_hot(reviews, dimension=10000):\n",
        "    results = np.zeros((len(reviews), dimension))\n",
        "    for i, review in enumerate(reviews):\n",
        "        for j in review:\n",
        "            results[i, j] = 1.0\n",
        "    return results"
      ],
      "metadata": {
        "id": "8J7TSQl0gyND",
        "colab": {
          "base_uri": "https://localhost:8080/"
        },
        "outputId": "e3a61290-e0b6-4453-eb56-55797afe97c8"
      },
      "execution_count": 5,
      "outputs": [
        {
          "output_type": "stream",
          "name": "stdout",
          "text": [
            "Help on function load_data in module keras.src.datasets.imdb:\n",
            "\n",
            "load_data(path='imdb.npz', num_words=None, skip_top=0, maxlen=None, seed=113, start_char=1, oov_char=2, index_from=3, **kwargs)\n",
            "    Loads the [IMDB dataset](https://ai.stanford.edu/~amaas/data/sentiment/).\n",
            "    \n",
            "    This is a dataset of 25,000 movies reviews from IMDB, labeled by sentiment\n",
            "    (positive/negative). Reviews have been preprocessed, and each review is\n",
            "    encoded as a list of word indexes (integers).\n",
            "    For convenience, words are indexed by overall frequency in the dataset,\n",
            "    so that for instance the integer \"3\" encodes the 3rd most frequent word in\n",
            "    the data. This allows for quick filtering operations such as:\n",
            "    \"only consider the top 10,000 most\n",
            "    common words, but eliminate the top 20 most common words\".\n",
            "    \n",
            "    As a convention, \"0\" does not stand for a specific word, but instead is used\n",
            "    to encode the pad token.\n",
            "    \n",
            "    Args:\n",
            "        path: where to cache the data (relative to `~/.keras/dataset`).\n",
            "        num_words: integer or None. Words are\n",
            "            ranked by how often they occur (in the training set) and only\n",
            "            the `num_words` most frequent words are kept. Any less frequent word\n",
            "            will appear as `oov_char` value in the sequence data. If None,\n",
            "            all words are kept. Defaults to `None`.\n",
            "        skip_top: skip the top N most frequently occurring words\n",
            "            (which may not be informative). These words will appear as\n",
            "            `oov_char` value in the dataset. When 0, no words are\n",
            "            skipped. Defaults to `0`.\n",
            "        maxlen: int or None. Maximum sequence length.\n",
            "            Any longer sequence will be truncated. None, means no truncation.\n",
            "            Defaults to `None`.\n",
            "        seed: int. Seed for reproducible data shuffling.\n",
            "        start_char: int. The start of a sequence will be marked with this\n",
            "            character. 0 is usually the padding character. Defaults to `1`.\n",
            "        oov_char: int. The out-of-vocabulary character.\n",
            "            Words that were cut out because of the `num_words` or\n",
            "            `skip_top` limits will be replaced with this character.\n",
            "        index_from: int. Index actual words with this index and higher.\n",
            "    \n",
            "    Returns:\n",
            "        Tuple of Numpy arrays: `(x_train, y_train), (x_test, y_test)`.\n",
            "    \n",
            "    **`x_train`, `x_test`**: lists of sequences, which are lists of indexes\n",
            "      (integers). If the num_words argument was specific, the maximum\n",
            "      possible index value is `num_words - 1`. If the `maxlen` argument was\n",
            "      specified, the largest possible sequence length is `maxlen`.\n",
            "    \n",
            "    **`y_train`, `y_test`**: lists of integer labels (1 or 0).\n",
            "    \n",
            "    **Note**: The 'out of vocabulary' character is only used for\n",
            "    words that were present in the training set but are not included\n",
            "    because they're not making the `num_words` cut here.\n",
            "    Words that were not seen in the training set but are in the test set\n",
            "    have simply been skipped.\n",
            "\n"
          ]
        }
      ]
    },
    {
      "cell_type": "markdown",
      "source": [
        "#### Block 4:  Load the IMDB dataset, keeping only the 10,000 most frequent words."
      ],
      "metadata": {
        "id": "da2PcDneNdzp"
      }
    },
    {
      "cell_type": "code",
      "source": [
        "# Assign default values of load_data arguments to convenience variables.\n",
        "start_char = 1       # Marks the start of a review\n",
        "oov_char = 2         # Represents out-of-vocabulary words\n",
        "index_from = 3       # Actual word indices start from this value\n",
        "n_validate = 10000   # Number of reviews reserved for validation\n",
        "\n",
        "# Load the dataset, keeping only the 10,000 most frequent words.\n",
        "(train_data, train_labels), (test_data, test_labels) = imdb.load_data(\n",
        "    start_char=start_char,\n",
        "    oov_char=oov_char,\n",
        "    index_from=index_from,\n",
        "    num_words=10000\n",
        ")\n",
        "\n",
        "# Count the number of reviews in the datasets.\n",
        "n_train = len(train_data)\n",
        "n_test = len(test_data)"
      ],
      "metadata": {
        "id": "XqZ68l77Nn7T",
        "colab": {
          "base_uri": "https://localhost:8080/"
        },
        "outputId": "9cd54243-6166-4849-8be8-b2e204e131c4"
      },
      "execution_count": 6,
      "outputs": [
        {
          "output_type": "stream",
          "name": "stdout",
          "text": [
            "Downloading data from https://storage.googleapis.com/tensorflow/tf-keras-datasets/imdb.npz\n",
            "\u001b[1m17464789/17464789\u001b[0m \u001b[32m━━━━━━━━━━━━━━━━━━━━\u001b[0m\u001b[37m\u001b[0m \u001b[1m0s\u001b[0m 0us/step\n"
          ]
        }
      ]
    },
    {
      "cell_type": "markdown",
      "source": [
        "#### Block 5:  Load the dictionary linking words in reviews to their rank in the frequency table.  Create a companion dictionary with words and ranks swapped (this is used to translate an encoded review to text)."
      ],
      "metadata": {
        "id": "1uE6ZRs9O5Sa"
      }
    },
    {
      "cell_type": "code",
      "source": [
        "# Display the first encoded review and its metadata.\n",
        "print(\"First encoded review:\", train_data[0])\n",
        "print(\"Type:\", type(train_data[0]))\n",
        "print(\"Label (0 = negative, 1 = positive):\", train_labels[0])\n",
        "print(\"Number of training reviews:\", len(train_data))\n",
        "\n",
        "# Load the dictionary mapping words to their index based on frequency.\n",
        "words_to_indices = keras.datasets.imdb.get_word_index()\n",
        "\n",
        "# Create a companion dictionary that maps indices back to words.\n",
        "# Add index_from to shift indices to account for special tokens.\n",
        "# Also include tags for the start of a review and out-of-vocabulary words.\n",
        "indices_to_words = {i + index_from: word for word, i in words_to_indices.items()}\n",
        "indices_to_words[start_char] = \"[START]\"\n",
        "indices_to_words[oov_char] = \"[OOV]\""
      ],
      "metadata": {
        "id": "n4RginiOO-hf",
        "colab": {
          "base_uri": "https://localhost:8080/"
        },
        "outputId": "206f7a95-4d4f-4356-df65-3435c4b57ef8"
      },
      "execution_count": 7,
      "outputs": [
        {
          "output_type": "stream",
          "name": "stdout",
          "text": [
            "First encoded review: [1, 14, 22, 16, 43, 530, 973, 1622, 1385, 65, 458, 4468, 66, 3941, 4, 173, 36, 256, 5, 25, 100, 43, 838, 112, 50, 670, 2, 9, 35, 480, 284, 5, 150, 4, 172, 112, 167, 2, 336, 385, 39, 4, 172, 4536, 1111, 17, 546, 38, 13, 447, 4, 192, 50, 16, 6, 147, 2025, 19, 14, 22, 4, 1920, 4613, 469, 4, 22, 71, 87, 12, 16, 43, 530, 38, 76, 15, 13, 1247, 4, 22, 17, 515, 17, 12, 16, 626, 18, 2, 5, 62, 386, 12, 8, 316, 8, 106, 5, 4, 2223, 5244, 16, 480, 66, 3785, 33, 4, 130, 12, 16, 38, 619, 5, 25, 124, 51, 36, 135, 48, 25, 1415, 33, 6, 22, 12, 215, 28, 77, 52, 5, 14, 407, 16, 82, 2, 8, 4, 107, 117, 5952, 15, 256, 4, 2, 7, 3766, 5, 723, 36, 71, 43, 530, 476, 26, 400, 317, 46, 7, 4, 2, 1029, 13, 104, 88, 4, 381, 15, 297, 98, 32, 2071, 56, 26, 141, 6, 194, 7486, 18, 4, 226, 22, 21, 134, 476, 26, 480, 5, 144, 30, 5535, 18, 51, 36, 28, 224, 92, 25, 104, 4, 226, 65, 16, 38, 1334, 88, 12, 16, 283, 5, 16, 4472, 113, 103, 32, 15, 16, 5345, 19, 178, 32]\n",
            "Type: <class 'list'>\n",
            "Label (0 = negative, 1 = positive): 1\n",
            "Number of training reviews: 25000\n",
            "Downloading data from https://storage.googleapis.com/tensorflow/tf-keras-datasets/imdb_word_index.json\n",
            "\u001b[1m1641221/1641221\u001b[0m \u001b[32m━━━━━━━━━━━━━━━━━━━━\u001b[0m\u001b[37m\u001b[0m \u001b[1m0s\u001b[0m 0us/step\n"
          ]
        }
      ]
    },
    {
      "cell_type": "markdown",
      "source": [
        "#### Block 6:  Reconstruct a randomly selected review from the training set back to text as a check."
      ],
      "metadata": {
        "id": "NbWO9EOohxIL"
      }
    },
    {
      "cell_type": "code",
      "source": [
        "import numpy as np\n",
        "import pprint\n",
        "\n",
        "# Construct a (pseudo)random number generator.\n",
        "rng = np.random.default_rng()\n",
        "\n",
        "# Generate the index of a randomly chosen review.\n",
        "i = rng.integers(0, n_train)\n",
        "\n",
        "# Display the sentiment of the chosen review.\n",
        "if train_labels[i] == 0:\n",
        "    print(\"The following review has been classified as negative.\")\n",
        "else:\n",
        "    print(\"The following review has been classified as positive.\")\n",
        "\n",
        "# Decode the chosen review. Display it using pretty print.\n",
        "review = decode_review(train_data[i], indices_to_words)\n",
        "pprint.pprint(review)\n",
        "\n",
        "## Write a comment here briefly stating whether you agree with the\n",
        "## sentiment assigned in the dataset and why.\n",
        "# The sentiment seems accurate. The review is clearly negative, with phrases like\n",
        "# \"really really bad\", \"virtually unwatchable\", and \"requires a mute button\"."
      ],
      "metadata": {
        "id": "VmruWgNHh0YC",
        "colab": {
          "base_uri": "https://localhost:8080/"
        },
        "outputId": "a394115c-a3a5-4402-e236-47035c6f88e8"
      },
      "execution_count": 10,
      "outputs": [
        {
          "output_type": "stream",
          "name": "stdout",
          "text": [
            "The following review has been classified as positive.\n",
            "(\"[START] my college professor says that othello may be shakespeare's finest \"\n",
            " \"drama i don't know if i agree with him yet i bought this video version of \"\n",
            " 'the film first i love kenneth branagh as [OOV] he was perfectly complicated '\n",
            " \"and worked very well in this adaptation surprisingly he didn't direct it but \"\n",
            " 'played a role lawrence fishburne shows that american actors can play '\n",
            " 'shakespeare just as well as british actors can do not that there was a '\n",
            " 'british vs american issue about it in fact if we all work together then '\n",
            " 'shakespeare can reach the masses which it richly deserves to do apart from '\n",
            " 'other shakespeare [OOV] this is dealt with the issue of race something that '\n",
            " 'has existed since the beginning of time the relationship between [OOV] and '\n",
            " '[OOV] could have been better and shown the [OOV] of their union together '\n",
            " 'while othello loves [OOV] with all his heart he is weak for jealousy and '\n",
            " \"fears losing her to a non [OOV] man like [OOV] it's quite a great scene at \"\n",
            " \"the end of the film but i won't reveal the ending it's just worth watching i \"\n",
            " 'think they edited much of the lines to 2 hours but they always edit '\n",
            " 'shakespeare')\n"
          ]
        }
      ]
    },
    {
      "cell_type": "markdown",
      "source": [
        "#### Block 7:  Recode the training and test data sets."
      ],
      "metadata": {
        "id": "pEl4XWdxhnv8"
      }
    },
    {
      "cell_type": "code",
      "source": [
        "# Recode the training and test datasets using one-hot encoding.\n",
        "# Each review becomes a 10,000-length binary vector indicating which words appear.\n",
        "\n",
        "x_train = reviews_as_one_hot(train_data)\n",
        "y_train = train_labels.copy()\n",
        "\n",
        "x_test = reviews_as_one_hot(test_data)\n",
        "y_test = test_labels.copy()\n",
        "\n",
        "print(\"x_train shape:\", x_train.shape)\n",
        "print(\"x_test shape:\", x_test.shape)\n"
      ],
      "metadata": {
        "id": "pQOtDHcohrh2",
        "colab": {
          "base_uri": "https://localhost:8080/"
        },
        "outputId": "671b5017-5aaf-472a-e140-b1661d8704d8"
      },
      "execution_count": 13,
      "outputs": [
        {
          "output_type": "stream",
          "name": "stdout",
          "text": [
            "x_train shape: (25000, 10000)\n",
            "x_test shape: (25000, 10000)\n"
          ]
        }
      ]
    },
    {
      "cell_type": "markdown",
      "source": [
        "#### Block 8:  Build the model."
      ],
      "metadata": {
        "id": "mvJ-p7Xcmqtx"
      }
    },
    {
      "cell_type": "code",
      "source": [
        "# Build the neural network model using a sequence of dense layers.\n",
        "# ReLU is used for hidden layers, and sigmoid is used for the output layer\n",
        "# to produce a probability between 0 and 1 for binary classification.\n",
        "\n",
        "model = keras.Sequential([\n",
        "    keras.Input(shape=(10000,)),\n",
        "    keras.layers.Dense(16, activation=\"relu\"),\n",
        "    keras.layers.Dense(16, activation=\"relu\"),\n",
        "    keras.layers.Dense(1, activation=\"sigmoid\")\n",
        "])\n",
        "\n",
        "# Compile the model with optimizer, loss function, and evaluation metric.\n",
        "model.compile(optimizer=\"rmsprop\",\n",
        "              loss=\"binary_crossentropy\",\n",
        "              metrics=[\"accuracy\"])\n"
      ],
      "metadata": {
        "id": "RvypdqYOmtka"
      },
      "execution_count": 17,
      "outputs": []
    },
    {
      "cell_type": "markdown",
      "source": [
        "#### Block 9:  Reserve part of the training data set for validation."
      ],
      "metadata": {
        "id": "qENOxljAwnZu"
      }
    },
    {
      "cell_type": "code",
      "source": [
        "# Reserve some of the reviews and labels for validation.\n",
        "# Use the first 10,000 reviews for validation and the remaining 15,000 for training.\n",
        "\n",
        "n_validate = 10000\n",
        "\n",
        "x_validate = x_train[:n_validate]\n",
        "y_validate = y_train[:n_validate]\n",
        "\n",
        "x_train_part = x_train[n_validate:]\n",
        "y_train_part = y_train[n_validate:]\n"
      ],
      "metadata": {
        "id": "HyjL_EkbwrHY"
      },
      "execution_count": 18,
      "outputs": []
    },
    {
      "cell_type": "markdown",
      "source": [
        "#### Block 10:  Train the model"
      ],
      "metadata": {
        "id": "TP8_jXWKymCE"
      }
    },
    {
      "cell_type": "code",
      "source": [
        "import time\n",
        "\n",
        "# Set the number of training epochs and batch size.\n",
        "n_epochs = 20\n",
        "n_batch = 512\n",
        "\n",
        "# Time the training process to estimate average epoch duration.\n",
        "start_time = time.time()\n",
        "\n",
        "history = model.fit(\n",
        "    x_train_part,\n",
        "    y_train_part,\n",
        "    epochs=n_epochs,\n",
        "    batch_size=n_batch,\n",
        "    validation_data=(x_validate, y_validate)\n",
        ")\n",
        "\n",
        "end_time = time.time()\n",
        "avg_epoch_time = (end_time - start_time) / n_epochs\n",
        "print(f\"Average epoch time: {avg_epoch_time:.2f} seconds\")\n",
        "\n",
        "# Estimated average epoch time: 1.31 seconds\n"
      ],
      "metadata": {
        "id": "1Y84q28OysCz",
        "colab": {
          "base_uri": "https://localhost:8080/"
        },
        "outputId": "2e6c2825-60b0-49d8-a277-a122b99809fb"
      },
      "execution_count": 20,
      "outputs": [
        {
          "output_type": "stream",
          "name": "stdout",
          "text": [
            "Epoch 1/20\n",
            "\u001b[1m30/30\u001b[0m \u001b[32m━━━━━━━━━━━━━━━━━━━━\u001b[0m\u001b[37m\u001b[0m \u001b[1m2s\u001b[0m 57ms/step - accuracy: 0.9986 - loss: 0.0142 - val_accuracy: 0.8666 - val_loss: 0.6047\n",
            "Epoch 2/20\n",
            "\u001b[1m30/30\u001b[0m \u001b[32m━━━━━━━━━━━━━━━━━━━━\u001b[0m\u001b[37m\u001b[0m \u001b[1m2s\u001b[0m 40ms/step - accuracy: 0.9982 - loss: 0.0127 - val_accuracy: 0.8681 - val_loss: 0.6031\n",
            "Epoch 3/20\n",
            "\u001b[1m30/30\u001b[0m \u001b[32m━━━━━━━━━━━━━━━━━━━━\u001b[0m\u001b[37m\u001b[0m \u001b[1m1s\u001b[0m 31ms/step - accuracy: 0.9996 - loss: 0.0087 - val_accuracy: 0.8623 - val_loss: 0.6967\n",
            "Epoch 4/20\n",
            "\u001b[1m30/30\u001b[0m \u001b[32m━━━━━━━━━━━━━━━━━━━━\u001b[0m\u001b[37m\u001b[0m \u001b[1m1s\u001b[0m 33ms/step - accuracy: 0.9986 - loss: 0.0104 - val_accuracy: 0.8628 - val_loss: 0.6533\n",
            "Epoch 5/20\n",
            "\u001b[1m30/30\u001b[0m \u001b[32m━━━━━━━━━━━━━━━━━━━━\u001b[0m\u001b[37m\u001b[0m \u001b[1m1s\u001b[0m 31ms/step - accuracy: 0.9977 - loss: 0.0116 - val_accuracy: 0.8673 - val_loss: 0.6716\n",
            "Epoch 6/20\n",
            "\u001b[1m30/30\u001b[0m \u001b[32m━━━━━━━━━━━━━━━━━━━━\u001b[0m\u001b[37m\u001b[0m \u001b[1m1s\u001b[0m 32ms/step - accuracy: 0.9998 - loss: 0.0055 - val_accuracy: 0.8621 - val_loss: 0.7446\n",
            "Epoch 7/20\n",
            "\u001b[1m30/30\u001b[0m \u001b[32m━━━━━━━━━━━━━━━━━━━━\u001b[0m\u001b[37m\u001b[0m \u001b[1m1s\u001b[0m 32ms/step - accuracy: 0.9967 - loss: 0.0132 - val_accuracy: 0.8656 - val_loss: 0.7094\n",
            "Epoch 8/20\n",
            "\u001b[1m30/30\u001b[0m \u001b[32m━━━━━━━━━━━━━━━━━━━━\u001b[0m\u001b[37m\u001b[0m \u001b[1m1s\u001b[0m 32ms/step - accuracy: 0.9991 - loss: 0.0064 - val_accuracy: 0.8661 - val_loss: 0.7324\n",
            "Epoch 9/20\n",
            "\u001b[1m30/30\u001b[0m \u001b[32m━━━━━━━━━━━━━━━━━━━━\u001b[0m\u001b[37m\u001b[0m \u001b[1m1s\u001b[0m 31ms/step - accuracy: 0.9998 - loss: 0.0035 - val_accuracy: 0.8643 - val_loss: 0.7497\n",
            "Epoch 10/20\n",
            "\u001b[1m30/30\u001b[0m \u001b[32m━━━━━━━━━━━━━━━━━━━━\u001b[0m\u001b[37m\u001b[0m \u001b[1m1s\u001b[0m 31ms/step - accuracy: 0.9997 - loss: 0.0039 - val_accuracy: 0.8668 - val_loss: 0.7735\n",
            "Epoch 11/20\n",
            "\u001b[1m30/30\u001b[0m \u001b[32m━━━━━━━━━━━━━━━━━━━━\u001b[0m\u001b[37m\u001b[0m \u001b[1m1s\u001b[0m 32ms/step - accuracy: 0.9998 - loss: 0.0032 - val_accuracy: 0.8657 - val_loss: 0.7940\n",
            "Epoch 12/20\n",
            "\u001b[1m30/30\u001b[0m \u001b[32m━━━━━━━━━━━━━━━━━━━━\u001b[0m\u001b[37m\u001b[0m \u001b[1m2s\u001b[0m 48ms/step - accuracy: 0.9997 - loss: 0.0023 - val_accuracy: 0.8652 - val_loss: 0.8055\n",
            "Epoch 13/20\n",
            "\u001b[1m30/30\u001b[0m \u001b[32m━━━━━━━━━━━━━━━━━━━━\u001b[0m\u001b[37m\u001b[0m \u001b[1m2s\u001b[0m 30ms/step - accuracy: 0.9997 - loss: 0.0028 - val_accuracy: 0.8659 - val_loss: 0.8299\n",
            "Epoch 14/20\n",
            "\u001b[1m30/30\u001b[0m \u001b[32m━━━━━━━━━━━━━━━━━━━━\u001b[0m\u001b[37m\u001b[0m \u001b[1m1s\u001b[0m 32ms/step - accuracy: 0.9998 - loss: 0.0020 - val_accuracy: 0.8641 - val_loss: 0.8378\n",
            "Epoch 15/20\n",
            "\u001b[1m30/30\u001b[0m \u001b[32m━━━━━━━━━━━━━━━━━━━━\u001b[0m\u001b[37m\u001b[0m \u001b[1m1s\u001b[0m 32ms/step - accuracy: 0.9999 - loss: 0.0017 - val_accuracy: 0.8637 - val_loss: 0.8610\n",
            "Epoch 16/20\n",
            "\u001b[1m30/30\u001b[0m \u001b[32m━━━━━━━━━━━━━━━━━━━━\u001b[0m\u001b[37m\u001b[0m \u001b[1m1s\u001b[0m 32ms/step - accuracy: 0.9992 - loss: 0.0042 - val_accuracy: 0.8651 - val_loss: 0.8795\n",
            "Epoch 17/20\n",
            "\u001b[1m30/30\u001b[0m \u001b[32m━━━━━━━━━━━━━━━━━━━━\u001b[0m\u001b[37m\u001b[0m \u001b[1m1s\u001b[0m 32ms/step - accuracy: 1.0000 - loss: 0.0014 - val_accuracy: 0.8646 - val_loss: 0.8939\n",
            "Epoch 18/20\n",
            "\u001b[1m30/30\u001b[0m \u001b[32m━━━━━━━━━━━━━━━━━━━━\u001b[0m\u001b[37m\u001b[0m \u001b[1m1s\u001b[0m 34ms/step - accuracy: 0.9997 - loss: 0.0018 - val_accuracy: 0.8634 - val_loss: 0.9253\n",
            "Epoch 19/20\n",
            "\u001b[1m30/30\u001b[0m \u001b[32m━━━━━━━━━━━━━━━━━━━━\u001b[0m\u001b[37m\u001b[0m \u001b[1m1s\u001b[0m 33ms/step - accuracy: 1.0000 - loss: 9.4524e-04 - val_accuracy: 0.8640 - val_loss: 0.9298\n",
            "Epoch 20/20\n",
            "\u001b[1m30/30\u001b[0m \u001b[32m━━━━━━━━━━━━━━━━━━━━\u001b[0m\u001b[37m\u001b[0m \u001b[1m1s\u001b[0m 33ms/step - accuracy: 1.0000 - loss: 8.7359e-04 - val_accuracy: 0.8622 - val_loss: 0.9613\n",
            "Average epoch time: 1.31 seconds\n"
          ]
        }
      ]
    },
    {
      "cell_type": "markdown",
      "source": [
        "#### Block 11:  Visualize the training history."
      ],
      "metadata": {
        "id": "c9y1s8M4zeCE"
      }
    },
    {
      "cell_type": "code",
      "source": [
        "# Extract training and validation metrics from the history object.\n",
        "history_dict = history.history\n",
        "training_loss = history_dict['loss']\n",
        "validation_loss = history_dict['val_loss']\n",
        "training_accuracy = history_dict['accuracy']\n",
        "validation_accuracy = history_dict['val_accuracy']\n",
        "\n",
        "idx_epochs = range(1, n_epochs + 1)\n",
        "\n",
        "# Create side-by-side plots for loss and accuracy.\n",
        "fig, axs = plt.subplots(1, 2, figsize=(10, 4))\n",
        "\n",
        "# Plot training and validation loss.\n",
        "axs[0].plot(idx_epochs, validation_loss, color=(0.0, 0.5, 0.0), label='validation\\nloss')\n",
        "axs[0].plot(idx_epochs, training_loss, 'b', label='training\\nloss')\n",
        "axs[0].set_xticks(range(2, n_epochs + 1, 4))\n",
        "axs[0].set_xlabel(r'$i_{epoch}$', labelpad=5)\n",
        "axs[0].set_ylabel('loss', labelpad=10)\n",
        "axs[0].legend(loc='center right', frameon=False)\n",
        "\n",
        "# Plot training and validation accuracy.\n",
        "axs[1].plot(idx_epochs, training_accuracy, 'b', label='training\\naccuracy')\n",
        "axs[1].plot(idx_epochs, validation_accuracy, color=(0.0, 0.5, 0.0), label='validation\\naccuracy')\n",
        "axs[1].set_xticks(range(2, n_epochs + 1, 4))\n",
        "axs[1].set_xlabel(r'$i_{epoch}$', labelpad=5)\n",
        "axs[1].set_ylabel('accuracy', labelpad=10)\n",
        "axs[1].legend(loc='center right', frameon=False, bbox_to_anchor=(0.9, 0.65), bbox_transform=fig.transFigure)\n",
        "\n",
        "fig.subplots_adjust(wspace=0.3)\n",
        "fig.show()\n"
      ],
      "metadata": {
        "id": "P5tBFj1n3TZP",
        "colab": {
          "base_uri": "https://localhost:8080/",
          "height": 397
        },
        "outputId": "d0d04e4b-5ae2-4188-e0c4-27e0e9055672"
      },
      "execution_count": 21,
      "outputs": [
        {
          "output_type": "display_data",
          "data": {
            "text/plain": [
              "<Figure size 1000x400 with 2 Axes>"
            ],
            "image/png": "[encoded data removed]"
          },
          "metadata": {}
        }
      ]
    },
    {
      "cell_type": "markdown",
      "source": [
        "- **Direct relationship**: Training and validation accuracy both increase with each epoch.\n",
        "- **Inverse relationship**: Training loss decreases steadily with each epoch.\n",
        "- **Divergence**: Around epoch 4, validation loss starts to increase while training loss continues to decrease — this suggests the model begins to overfit.\n",
        "- **Best number of epochs**: About 4 epochs. At this point, validation accuracy peaks and validation loss starts to rise. This is likely the best trade-off between performance and generalization.\n"
      ],
      "metadata": {
        "id": "C0oidF8-mIJE"
      }
    },
    {
      "cell_type": "markdown",
      "source": [
        "#### Block 12:  Retrain the model, from the ground up."
      ],
      "metadata": {
        "id": "NHp_ICUbI_0N"
      }
    },
    {
      "cell_type": "code",
      "source": [
        "# Reset the number of epochs, based on prior results.\n",
        "n_epochs = 4\n",
        "\n",
        "# Define the model afresh using the same architecture.\n",
        "model = keras.Sequential([\n",
        "    keras.layers.Dense(16, activation=\"relu\", input_shape=(10000,)),\n",
        "    keras.layers.Dense(16, activation=\"relu\"),\n",
        "    keras.layers.Dense(1, activation=\"sigmoid\")\n",
        "])\n",
        "\n",
        "# Compile the model with the same settings.\n",
        "model.compile(optimizer=\"rmsprop\",\n",
        "              loss=\"binary_crossentropy\",\n",
        "              metrics=[\"accuracy\"])\n",
        "\n",
        "# Retrain the model using the entire training dataset (no validation split).\n",
        "model.fit(x_train, y_train, epochs=n_epochs, batch_size=n_batch)"
      ],
      "metadata": {
        "id": "ySIDPuYCJEx4",
        "colab": {
          "base_uri": "https://localhost:8080/"
        },
        "outputId": "223423cf-1e9d-4b07-b340-bfddce404c1f"
      },
      "execution_count": 22,
      "outputs": [
        {
          "output_type": "stream",
          "name": "stdout",
          "text": [
            "Epoch 1/4\n",
            "\u001b[1m49/49\u001b[0m \u001b[32m━━━━━━━━━━━━━━━━━━━━\u001b[0m\u001b[37m\u001b[0m \u001b[1m2s\u001b[0m 23ms/step - accuracy: 0.7315 - loss: 0.5837\n",
            "Epoch 2/4\n",
            "\u001b[1m49/49\u001b[0m \u001b[32m━━━━━━━━━━━━━━━━━━━━\u001b[0m\u001b[37m\u001b[0m \u001b[1m1s\u001b[0m 23ms/step - accuracy: 0.8965 - loss: 0.3026\n",
            "Epoch 3/4\n",
            "\u001b[1m49/49\u001b[0m \u001b[32m━━━━━━━━━━━━━━━━━━━━\u001b[0m\u001b[37m\u001b[0m \u001b[1m1s\u001b[0m 23ms/step - accuracy: 0.9238 - loss: 0.2231\n",
            "Epoch 4/4\n",
            "\u001b[1m49/49\u001b[0m \u001b[32m━━━━━━━━━━━━━━━━━━━━\u001b[0m\u001b[37m\u001b[0m \u001b[1m2s\u001b[0m 34ms/step - accuracy: 0.9398 - loss: 0.1770\n"
          ]
        },
        {
          "output_type": "execute_result",
          "data": {
            "text/plain": [
              "<keras.src.callbacks.history.History at 0x7d735ba03450>"
            ]
          },
          "metadata": {},
          "execution_count": 22
        }
      ]
    },
    {
      "cell_type": "markdown",
      "source": [
        "#### Block 13:  Evaluate the retrained model."
      ],
      "metadata": {
        "id": "sFu3-nYkMglz"
      }
    },
    {
      "cell_type": "code",
      "source": [
        "# Evaluate the retrained model using the test dataset.\n",
        "results = model.evaluate(x_test, y_test, return_dict=True)\n",
        "\n",
        "# Extract accuracy and loss.\n",
        "test_accuracy_pct = 100 * results['accuracy']\n",
        "test_loss = results['loss']\n",
        "\n",
        "# Print the results in a readable format.\n",
        "results_str = 'The model has an accuracy of {:.2f}%, with a loss of {:.2f}.'\n",
        "print(results_str.format(test_accuracy_pct, test_loss))\n",
        "\n",
        "# Recorded results:\n",
        "# Accuracy: 88.21%\n",
        "# Loss: 0.29\n"
      ],
      "metadata": {
        "id": "LL8QWl3VLkPT",
        "colab": {
          "base_uri": "https://localhost:8080/"
        },
        "outputId": "70f84719-f236-4726-d9bd-fa3ddde24bae"
      },
      "execution_count": 23,
      "outputs": [
        {
          "output_type": "stream",
          "name": "stdout",
          "text": [
            "\u001b[1m782/782\u001b[0m \u001b[32m━━━━━━━━━━━━━━━━━━━━\u001b[0m\u001b[37m\u001b[0m \u001b[1m2s\u001b[0m 2ms/step - accuracy: 0.8811 - loss: 0.2952\n",
            "The model has an accuracy of 88.21%, with a loss of 0.29.\n"
          ]
        }
      ]
    },
    {
      "cell_type": "markdown",
      "source": [
        "#### Block 14:  Make predictions using the retrained model"
      ],
      "metadata": {
        "id": "Z3_MbQH8w7Kz"
      }
    },
    {
      "cell_type": "code",
      "source": [
        "# Make predictions on the test dataset.\n",
        "predicted_sentiments = model.predict(x_test)\n",
        "n_predict = 10\n",
        "\n",
        "# Loop through the first n_predict reviews.\n",
        "for i in range(n_predict):\n",
        "    sentiment_score = predicted_sentiments[i][0]\n",
        "    label = \"Positive\" if sentiment_score > 0.5 else \"Negative\"\n",
        "    print(f\"\\nPrediction {i+1}: {sentiment_score:.2f} → {label}\")\n",
        "\n",
        "    # Decode and display the original review.\n",
        "    decoded_review = decode_review(test_data[i], indices_to_words)\n",
        "    print(decoded_review)\n",
        "\n",
        "# Comment:\n",
        "# The predicted sentiments mostly align with the tone of the reviews.\n",
        "# For example, reviews with clear emotional or evaluative language are usually predicted correctly.\n",
        "# A few, like Prediction 4, were labeled positive but read more negatively — which shows\n",
        "# how subjective or mixed reviews can challenge the model. Overall, the model performs well."
      ],
      "metadata": {
        "id": "1L-wkMzlxAdV",
        "colab": {
          "base_uri": "https://localhost:8080/"
        },
        "outputId": "3b4767a3-573b-44d9-f835-3ddcea9bd786"
      },
      "execution_count": 24,
      "outputs": [
        {
          "output_type": "stream",
          "name": "stdout",
          "text": [
            "\u001b[1m782/782\u001b[0m \u001b[32m━━━━━━━━━━━━━━━━━━━━\u001b[0m\u001b[37m\u001b[0m \u001b[1m1s\u001b[0m 2ms/step\n",
            "\n",
            "Prediction 1: 0.18 → Negative\n",
            "[START] please give this one a miss br br [OOV] [OOV] and the rest of the cast rendered terrible performances the show is flat flat flat br br i don't know how michael madison could have allowed this one on his plate he almost seemed to know this wasn't going to work out and his performance was quite [OOV] so all you madison fans give this a miss\n",
            "\n",
            "Prediction 2: 1.00 → Positive\n",
            "[START] this film requires a lot of patience because it focuses on mood and character development the plot is very simple and many of the scenes take place on the same set in frances [OOV] the sandy dennis character apartment but the film builds to a disturbing climax br br the characters create an atmosphere [OOV] with sexual tension and psychological [OOV] it's very interesting that robert altman directed this considering the style and structure of his other films still the trademark altman audio style is evident here and there i think what really makes this film work is the brilliant performance by sandy dennis it's definitely one of her darker characters but she plays it so perfectly and convincingly that it's scary michael burns does a good job as the mute young man regular altman player michael murphy has a small part the [OOV] moody set fits the content of the story very well in short this movie is a powerful study of loneliness sexual [OOV] and desperation be patient [OOV] up the atmosphere and pay attention to the wonderfully written script br br i praise robert altman this is one of his many films that deals with unconventional fascinating subject matter this film is disturbing but it's sincere and it's sure to [OOV] a strong emotional response from the viewer if you want to see an unusual film some might even say bizarre this is worth the time br br unfortunately it's very difficult to find in video stores you may have to buy it off the internet\n",
            "\n",
            "Prediction 3: 0.73 → Positive\n",
            "[START] many animation buffs consider [OOV] [OOV] the great forgotten genius of one special branch of the art puppet animation which he invented almost single [OOV] and as it happened almost accidentally as a young man [OOV] was more interested in [OOV] than the cinema but his [OOV] attempt to film two [OOV] [OOV] fighting led to an unexpected breakthrough in film making when he realized he could [OOV] movement by [OOV] beetle [OOV] and [OOV] them one frame at a time this discovery led to the production of amazingly elaborate classic short the [OOV] revenge which he made in russia in [OOV] at a time when motion picture animation of all sorts was in its [OOV] br br the political [OOV] of the russian revolution caused [OOV] to move to paris where one of his first productions [OOV] was a dark political satire [OOV] known as [OOV] or the [OOV] who wanted a king a strain of black comedy can be found in almost all of films but here it is very dark indeed aimed more at grown ups who can appreciate the satirical aspects than children who would most likely find the climax [OOV] i'm middle aged and found it pretty [OOV] myself and indeed [OOV] of the film intended for english speaking viewers of the 1920s were given title cards filled with [OOV] and [OOV] in order to help [OOV] the sharp [OOV] of the finale br br our tale is set in a swamp the [OOV] [OOV] where the citizens are unhappy with their government and have called a special session to see what they can do to improve matters they decide to [OOV] [OOV] for a king the crowds are [OOV] animated in this opening sequence it couldn't have been easy to make so many frog puppets look alive simultaneously while [OOV] for his part is depicted as a [OOV] white [OOV] guy in the clouds who looks like he'd rather be taking a [OOV] when [OOV] sends them a tree like god who regards them the [OOV] decide that this is no improvement and demand a different king irritated [OOV] sends them a [OOV] br br delighted with this [OOV] looking new king who towers above them the [OOV] welcome him with a [OOV] of [OOV] dressed [OOV] the mayor steps forward to hand him the key to the [OOV] as [OOV] cameras record the event to everyone's horror the [OOV] promptly eats the mayor and then goes on a merry rampage [OOV] citizens at random a title card [OOV] reads news of the king's [OOV] throughout the kingdom when the now terrified [OOV] once more [OOV] [OOV] for help he loses his temper and [OOV] their community with lightning [OOV] the moral of our story delivered by a hapless frog just before he is eaten is let well enough alone br br considering the time period when this startling little film was made and considering the fact that it was made by a russian [OOV] at the height of that [OOV] country's civil war it would be easy to see this as a [OOV] about those events [OOV] may or may not have had [OOV] turmoil in mind when he made [OOV] but whatever [OOV] his choice of material the film stands as a [OOV] tale of universal [OOV] [OOV] could be the soviet union italy germany or japan in the 1930s or any country of any era that lets its guard down and is overwhelmed by [OOV] it's a fascinating film even a charming one in its macabre way but its message is no joke\n",
            "\n",
            "Prediction 4: 0.67 → Positive\n",
            "[START] i generally love this type of movie however this time i found myself wanting to kick the screen since i can't do that i will just complain about it this was absolutely idiotic the things that happen with the dead kids are very cool but the alive people are absolute idiots i am a grown man pretty big and i can defend myself well however i would not do half the stuff the little girl does in this movie also the mother in this movie is reckless with her children to the point of neglect i wish i wasn't so angry about her and her actions because i would have otherwise enjoyed the flick what a number she was take my advise and fast forward through everything you see her do until the end also is anyone else getting sick of watching movies that are filmed so dark anymore one can hardly see what is being filmed as an audience we are [OOV] involved with the actions on the screen so then why the hell can't we have night vision\n",
            "\n",
            "Prediction 5: 0.94 → Positive\n",
            "[START] like some other people wrote i'm a die hard mario fan and i loved this game br br this game starts slightly boring but trust me it's worth it as soon as you start your hooked the levels are fun and [OOV] they will hook you [OOV] your mind turns to [OOV] i'm not kidding this game is also [OOV] and is beautifully done br br to keep this spoiler free i have to keep my mouth shut about details but please try this game it'll be worth it br br story 9 9 action 10 1 it's that good [OOV] 10 attention [OOV] 10 average 10\n",
            "\n",
            "Prediction 6: 0.69 → Positive\n",
            "[START] i'm absolutely disgusted this movie isn't being sold all who love this movie should email disney and increase the demand for it they'd eventually have to sell it then i'd buy copies for everybody i know everything and everybody in this movie did a good job and i haven't figured out why disney hasn't put this movie on dvd or on vhs in rental stores at least i haven't seen any copies this is a wicked good movie and should be seen by all the kids in the new generation don't get to see it and i think they should it should at least be put back on the channel this movie doesn't deserve a cheap [OOV] it deserves the real thing i'm them now this movie will be on dvd\n",
            "\n",
            "Prediction 7: 1.00 → Positive\n",
            "[START] originally supposed to be just a part of a huge epic the year [OOV] depicting the revolution of [OOV] [OOV] is the story of the [OOV] of the crew of the [OOV] in [OOV] harbor the film opens with the crew [OOV] meat and the captain [OOV] the execution of the an [OOV] takes place during which the revolutionary leader is killed this [OOV] is taken to the shore to lie in state when the [OOV] gather on a huge flight of steps [OOV] the harbor [OOV] troops appear and march down the steps breaking up the crowd a naval [OOV] is sent to [OOV] the [OOV] but at the moment when the ships come into range their [OOV] allow the to pass through [OOV] non historically accurate ending is open ended thus [OOV] that this was the seed of the later [OOV] revolution that would bloom in russia the film is broken into five parts men and [OOV] drama on the an appeal from the dead the [OOV] steps and meeting the [OOV] br br [OOV] was a revolutionary artist but at the genius level not wanting to make a historical drama [OOV] used visual [OOV] to give the film a [OOV] look so that the viewer feels he is [OOV] on a thrilling and politically revolutionary story this technique is used by the battle of [OOV] br br unlike [OOV] relied on or the casting of non professionals who had striking physical appearances the extraordinary faces of the cast are what one remembers from [OOV] this technique is later used by frank [OOV] in mr deeds goes to town and meet john [OOV] but in [OOV] no one individual is cast as a hero or heroine the story is told through a series of scenes that are combined in a special effect known as montage the editing and selection of short segments to produce a desired effect on the viewer d w griffith also used the montage but no one [OOV] it so well as [OOV] br br the artistic filming of the crew sleeping in their is [OOV] by the [OOV] swinging of tables suspended from chains in the [OOV] in contrast the confrontation between the crew and their officers is charged with electricity and the [OOV] [OOV] of the masses demonstrate their rage with injustice br br [OOV] introduced the technique of showing an action and repeating it again but from a slightly different angle to demonstrate intensity the breaking of a plate bearing the words give us this day our daily bread [OOV] the beginning of the end this technique is used in last year at [OOV] also when the [OOV] surgeon is tossed over the side his [OOV] [OOV] from the [OOV] it was these glasses that the officer used to [OOV] and pass the [OOV] [OOV] meat this sequence ties the punishment to the corruption of the [OOV] era br br the most noted sequence in the film and perhaps in all of film history is the [OOV] steps the broad [OOV] of the steps are filled with hundreds of extras rapid and dramatic violence is always suggested and not explicit yet the visual images of the deaths of a few will last in the minds of the viewer forever br br the [OOV] shots of [OOV] boots and legs [OOV] the steps are cleverly [OOV] with long menacing shadows from a sun at the top of the steps the pace of the sequence is deliberately varied between the [OOV] soldiers and a few civilians who [OOV] up courage to beg them to stop a close up of a woman's face frozen in horror after being struck by a [OOV] sword is the direct [OOV] of the bank [OOV] in bonnie in clyde and gives a lasting impression of the horror of the [OOV] regime br br the death of a young mother leads to a baby [OOV] [OOV] down the steps in a sequence that has been copied by hitchcock in foreign [OOV] by terry gilliam in brazil and brian [OOV] in the [OOV] this sequence is shown repeatedly from various angles thus drawing out what probably was only a five second event br br [OOV] is a film that the revolutionary spirit [OOV] it for those already committed and it for the [OOV] it [OOV] of fire and [OOV] with the senseless [OOV] of the [OOV] [OOV] regime its greatest impact has been on film students who have borrowed and only slightly improved on techniques invented in russia several generations ago\n",
            "\n",
            "Prediction 8: 0.01 → Negative\n",
            "[START] the [OOV] richard [OOV] dog is [OOV] to [OOV] joan fontaine dog however when [OOV] bing crosby arrives in town to sell a record player to the emperor his dog is attacked by [OOV] dog after a revenge attack where [OOV] is [OOV] from town a [OOV] insists that [OOV] dog must confront dog so that she can overcome her [OOV] fears this is arranged and the dogs fall in love so do [OOV] and [OOV] the rest of the film passes by with romance and at the end [OOV] dog gives birth but who is the father br br the dog story is the very weak vehicle that is used to try and create a story between humans its a terrible storyline there are 3 main musical pieces all of which are rubbish bad songs and dreadful choreography its just an extremely boring film bing has too many words in each sentence and delivers them in an almost irritating manner its not funny ever but its meant to be bing and joan have done much better than this\n",
            "\n",
            "Prediction 9: 0.94 → Positive\n",
            "[START] hollywood had a long love affair with bogus [OOV] nights tales but few of these products have stood the test of time the most memorable were the jon hall maria [OOV] films which have long since become camp this one is filled with dubbed songs [OOV] [OOV] and slapstick it's a truly crop of corn and pretty near [OOV] today it was nominated for its imaginative special effects which are almost [OOV] in this day and age [OOV] mainly of trick photography the only outstanding positive feature which survives is its beautiful color and clarity sad to say of the many films made in this genre few of them come up to alexander [OOV] original thief of [OOV] almost any other [OOV] nights film is superior to this one though it's a loser\n",
            "\n",
            "Prediction 10: 0.98 → Positive\n",
            "[START] this film is where the batman franchise ought to have stopped though i will [OOV] that the ideas behind batman forever were excellent and could have been easily realised by a competent director as it turned out this was not to be the case br br apparently warner brothers executives were disappointed with how dark this second batman film from tim burton turned out apart from the idiocy of expecting anything else from burton and the conservative [OOV] of their subsequent decision to turn the franchise into an homage to the sixties tv series i fail to understand how batman returns can be considered at all disappointing br br true it is not quite the equal of the first film though it [OOV] all the minor [OOV] of style found in batman a weaker script that [OOV] the [OOV] between not just two but three characters invites [OOV] comparisons to the masterful pairing of keaton and jack nicholson as the joker in the first film yet for all this it remains a [OOV] dark film true to the way the batman was always meant to be and highly satisfying br br michael keaton returns as the batman and his alter ego bruce wayne with [OOV] max [OOV] christopher walken named in honour of the 1920s german silent actor his partner in crime [OOV] [OOV] the penguin danny [OOV] in brilliant makeup reminiscent of laurence [OOV] richard iii and [OOV] kyle the [OOV] michelle pfeiffer whom wayne romances both as himself and as the batman the four principals turn in excellent performances especially walken and [OOV] while together keaton and pfeiffer explore the darker side of double identities br br there are some intriguing concepts in this film about the only weakness i can really point out is a certain to the script in some places which i think is due mostly to the way this film is a four [OOV] fight there simply isn't enough time to properly explore what's going on br br nevertheless this is a damn good film i highly recommend watching this in [OOV] with the first and then [OOV] for how good the series could have been had it continued under burton and keaton\n"
          ]
        }
      ]
    }
  ]
}